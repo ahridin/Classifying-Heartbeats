{
 "cells": [
  {
   "cell_type": "code",
   "execution_count": 1,
   "metadata": {},
   "outputs": [
    {
     "name": "stdout",
     "output_type": "stream",
     "text": [
      "120\n",
      "264\n"
     ]
    }
   ],
   "source": [
    "# load in csv file\n",
    "import csv\n",
    "import numpy as np\n",
    "import wave\n",
    "import struct\n",
    "\n",
    "x_trainAFile = [] # wave filename \n",
    "y_trainA = [] # label \n",
    "\n",
    "x_trainBFile = [] # wave filename \n",
    "y_trainB = [] # label \n",
    "\n",
    "# ignores all entries that are less than 2 seconds\n",
    "def moreNsecs(file, N):\n",
    "    f = wave.open(file)\n",
    "    frames = f.readframes(-1)\n",
    "    samples = struct.unpack('h'*f.getnframes(), frames)\n",
    "    framerate = f.getframerate()\n",
    "    t = [float(i)/framerate for i in range(len(samples))]\n",
    "    if t[-1] > 2:\n",
    "        return True\n",
    "    else:\n",
    "        return False\n",
    "\n",
    "# ignores all entries without a label\n",
    "with open('set_a.csv') as csvfile:\n",
    "    reader = csv.reader(csvfile)\n",
    "    for row in reader:\n",
    "        if not row[2]=='' and not row[2]=='label': \n",
    "            if moreNsecs(row[1],2):\n",
    "                x_trainAFile.append(row[1])\n",
    "                y_trainA.append(row[2])\n",
    "print(len(x_trainAFile))\n",
    "\n",
    "with open('set_b.csv') as csvfile:\n",
    "    reader = csv.reader(csvfile)\n",
    "    for row in reader:\n",
    "        if not row[2]=='' and not row[2]=='label' and 'noisy' not in row[1]:\n",
    "            fname = 'set_b/' + row[1][16:]\n",
    "            new_fname = ''\n",
    "            count = 0\n",
    "            for c in fname:\n",
    "                new_fname += c\n",
    "                if c == '_':\n",
    "                    if count == 1:\n",
    "                       new_fname += '_' \n",
    "                    count += 1\n",
    "            if moreNsecs(new_fname,2):\n",
    "                x_trainBFile.append(new_fname)\n",
    "                y_trainB.append(row[2])\n",
    "print(len(x_trainBFile))"
   ]
  },
  {
   "cell_type": "code",
   "execution_count": 2,
   "metadata": {
    "collapsed": true
   },
   "outputs": [],
   "source": [
    "from pylab import *\n",
    "\n",
    "def get_signal(file):\n",
    "    f = wave.open(file)\n",
    "    frames = f.readframes(-1)\n",
    "    samples = struct.unpack('h'*f.getnframes(), frames)\n",
    "    return samples"
   ]
  },
  {
   "cell_type": "code",
   "execution_count": 3,
   "metadata": {},
   "outputs": [
    {
     "name": "stdout",
     "output_type": "stream",
     "text": [
      "(120,)\n",
      "(264,)\n"
     ]
    }
   ],
   "source": [
    "# dataset A, import sound files\n",
    "x_trainA_raw = [] # features\n",
    "for i in range(len(x_trainAFile)):\n",
    "    x_trainA_raw.append(np.array(get_signal(x_trainAFile[i])))\n",
    "x_trainA_raw = np.array(x_trainA_raw)\n",
    "print(x_trainA_raw.shape)\n",
    "\n",
    "# dataset B, import sound files\n",
    "x_trainB_raw = [] # features\n",
    "for i in range(len(x_trainBFile)):\n",
    "    x_trainB_raw.append(np.array(get_signal(x_trainBFile[i])))\n",
    "x_trainB_raw = np.array(x_trainB_raw)\n",
    "print(x_trainB_raw.shape)"
   ]
  },
  {
   "cell_type": "code",
   "execution_count": 4,
   "metadata": {
    "collapsed": true
   },
   "outputs": [],
   "source": [
    "# using wavelet decomposition\n",
    "import pywt\n",
    "import seaborn\n",
    "from statsmodels.robust import mad"
   ]
  },
  {
   "cell_type": "code",
   "execution_count": 5,
   "metadata": {
    "collapsed": true
   },
   "outputs": [],
   "source": [
    "# TO-DO: play around with these variables\n",
    "def waveletSmooth( x, wavelet=\"db4\", level=1, title=None ):\n",
    "    # calculate the wavelet coefficients\n",
    "    coeff = pywt.wavedec( x, wavelet, mode=\"per\" )\n",
    "    # calculate a threshold\n",
    "    sigma = mad( coeff[-level] )\n",
    "    # changing this threshold also changes the behavior,\n",
    "    # but I have not played with this very much\n",
    "    uthresh = sigma * np.sqrt( 2*np.log( len( x ) ) )\n",
    "    coeff[1:] = ( pywt.threshold( i, value=uthresh, mode=\"soft\" ) for i in coeff[1:] )\n",
    "    # reconstruct the signal using the thresholded coefficients\n",
    "    y = pywt.waverec( coeff, wavelet, mode=\"per\" )\n",
    "    #plot( x, color=\"b\", alpha=0.5 )\n",
    "    #plot( y, color=\"b\" )\n",
    "    #show()\n",
    "    return y"
   ]
  },
  {
   "cell_type": "code",
   "execution_count": 35,
   "metadata": {},
   "outputs": [
    {
     "name": "stdout",
     "output_type": "stream",
     "text": [
      "(120,)\n",
      "(264,)\n"
     ]
    }
   ],
   "source": [
    "x_trainA = []\n",
    "for samples in x_trainA_raw:\n",
    "    x_smoothed = waveletSmooth(samples, level=4)\n",
    "    x_trainA.append(x_smoothed)\n",
    "    #plot(samples,'r')\n",
    "    #plot(x_smoothed,'b')\n",
    "    #show()\n",
    "x_trainA = np.array(x_trainA)\n",
    "print(x_trainA.shape)\n",
    "\n",
    "x_trainB = []\n",
    "for samples in x_trainB_raw:\n",
    "    x_smoothed = waveletSmooth(samples, level=4)\n",
    "    x_trainB.append(x_smoothed)\n",
    "    #plot(samples,'r')\n",
    "    #plot(x_smoothed,'b')\n",
    "    #show()\n",
    "x_trainB = np.array(x_trainB)\n",
    "print(x_trainB.shape)"
   ]
  },
  {
   "cell_type": "code",
   "execution_count": 17,
   "metadata": {
    "collapsed": true
   },
   "outputs": [],
   "source": [
    "# downsample by a factor of 10\n",
    "def down_sample(x, factor=10):\n",
    "    r = range(len(x))\n",
    "    down_array = []\n",
    "    for i in r[0::factor]:\n",
    "        down_array.append(x[i])\n",
    "    return down_array"
   ]
  },
  {
   "cell_type": "code",
   "execution_count": 36,
   "metadata": {},
   "outputs": [
    {
     "name": "stdout",
     "output_type": "stream",
     "text": [
      "396900\n",
      "39690\n",
      "(120,)\n"
     ]
    }
   ],
   "source": [
    "print(len(x_trainA[0]))\n",
    "x_trainA = np.array([down_sample(sample) for sample in x_trainA])\n",
    "print(len(x_trainA[0]))\n",
    "print(x_trainA.shape)"
   ]
  },
  {
   "cell_type": "code",
   "execution_count": 32,
   "metadata": {},
   "outputs": [
    {
     "data": {
      "image/png": "[encoded data removed]",
      "text/plain": [
       "<matplotlib.figure.Figure at 0x11f561a58>"
      ]
     },
     "metadata": {},
     "output_type": "display_data"
    },
    {
     "data": {
      "image/png": "[encoded data removed]",
      "text/plain": [
       "<matplotlib.figure.Figure at 0x11f56deb8>"
      ]
     },
     "metadata": {},
     "output_type": "display_data"
    }
   ],
   "source": [
    "figure()\n",
    "plot(x_trainA_raw[0],'r')\n",
    "figure()\n",
    "plot(x_trainA[0],'b')\n",
    "show()"
   ]
  },
  {
   "cell_type": "code",
   "execution_count": 37,
   "metadata": {},
   "outputs": [],
   "source": [
    "# 4th-level Order Six Daubechies filter\n",
    "x_trainA = np.array([pywt.dwt(x,'db4')[0] for x in x_trainA])\n",
    "print(len(x_trainA[0]))\n",
    "print(x_trainA.shape)"
   ]
  },
  {
   "cell_type": "code",
   "execution_count": 41,
   "metadata": {},
   "outputs": [
    {
     "data": {
      "image/png": "[encoded data removed]",
      "text/plain": [
       "<matplotlib.figure.Figure at 0x12f8885f8>"
      ]
     },
     "metadata": {},
     "output_type": "display_data"
    },
    {
     "data": {
      "image/png": "[encoded data removed]",
      "text/plain": [
       "<matplotlib.figure.Figure at 0x12ef544a8>"
      ]
     },
     "metadata": {},
     "output_type": "display_data"
    }
   ],
   "source": [
    "figure()\n",
    "plot(x_trainA_raw[0],'r')\n",
    "figure()\n",
    "plot(x_trainA[0],'b')\n",
    "show()"
   ]
  },
  {
   "cell_type": "code",
   "execution_count": null,
   "metadata": {
    "collapsed": true
   },
   "outputs": [],
   "source": [
    "# normalize \n",
    "x_trainA = np.array([x/max(x) for x in x_trainA])"
   ]
  }
 ],
 "metadata": {
  "kernelspec": {
   "display_name": "Python 3",
   "language": "python",
   "name": "python3"
  },
  "language_info": {
   "codemirror_mode": {
    "name": "ipython",
    "version": 3
   },
   "file_extension": ".py",
   "mimetype": "text/x-python",
   "name": "python",
   "nbconvert_exporter": "python",
   "pygments_lexer": "ipython3",
   "version": "3.6.3"
  }
 },
 "nbformat": 4,
 "nbformat_minor": 2
}
