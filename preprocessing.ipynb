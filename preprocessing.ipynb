{
 "cells": [
  {
   "cell_type": "code",
   "execution_count": 61,
   "metadata": {},
   "outputs": [
    {
     "name": "stdout",
     "output_type": "stream",
     "text": [
      "124\n",
      "312\n"
     ]
    }
   ],
   "source": [
    "# load in csv file\n",
    "import csv\n",
    "import numpy as np\n",
    "\n",
    "seta_info = []\n",
    "x_trainAFile = [] # wave filename \n",
    "x_trainA = [] # features \n",
    "y_trainA = [] # label \n",
    "\n",
    "setb_info = []\n",
    "x_trainBFile = [] # wave filename \n",
    "x_trainB = [] # features \n",
    "y_trainB = [] # label \n",
    "\n",
    "# ignores all entries with a label\n",
    "with open('set_a.csv') as csvfile:\n",
    "    reader = csv.reader(csvfile)\n",
    "    for row in reader:\n",
    "        if not row[2]=='' and not row[2]=='label': \n",
    "            seta_info.append([row[1], row[2]])\n",
    "print(len(seta_info))\n",
    "\n",
    "with open('set_b.csv') as csvfile:\n",
    "    reader = csv.reader(csvfile)\n",
    "    for row in reader:\n",
    "        if not row[2]=='' and not row[2]=='label' and 'noisy' not in row[1]:\n",
    "            fname = 'set_b/' + row[1][16:]\n",
    "            new_fname = ''\n",
    "            count = 0\n",
    "            for c in fname:\n",
    "                new_fname += c\n",
    "                if c == '_':\n",
    "                    if count == 1:\n",
    "                       new_fname += '_' \n",
    "                    count += 1\n",
    "            setb_info.append([new_fname, row[2]])\n",
    "print(len(setb_info))"
   ]
  },
  {
   "cell_type": "code",
   "execution_count": 62,
   "metadata": {},
   "outputs": [
    {
     "name": "stdout",
     "output_type": "stream",
     "text": [
      "120\n",
      "264\n"
     ]
    }
   ],
   "source": [
    "import wave\n",
    "import struct\n",
    "\n",
    "# load in each file and remove all files with times less than 2 seconds\n",
    "for file,label in seta_info:\n",
    "    f = wave.open(file)\n",
    "    frames = f.readframes(-1)\n",
    "    samples = struct.unpack('h'*f.getnframes(), frames)\n",
    "    framerate = f.getframerate()\n",
    "    t = [float(i)/framerate for i in range(len(samples))]\n",
    "    if t[-1] > 2:\n",
    "        x_trainAFile.append(file)\n",
    "        y_trainA.append(label)\n",
    "\n",
    "for file,label in setb_info:\n",
    "    f = wave.open(file)\n",
    "    frames = f.readframes(-1)\n",
    "    samples = struct.unpack('h'*f.getnframes(), frames)\n",
    "    framerate = f.getframerate()\n",
    "    t = [float(i)/framerate for i in range(len(samples))]\n",
    "    if t[-1] > 2:\n",
    "        x_trainBFile.append(file)\n",
    "        y_trainB.append(label)\n",
    "\n",
    "print(len(x_trainAFile))\n",
    "print(len(x_trainBFile))"
   ]
  },
  {
   "cell_type": "code",
   "execution_count": null,
   "metadata": {
    "collapsed": true
   },
   "outputs": [],
   "source": []
  }
 ],
 "metadata": {
  "kernelspec": {
   "display_name": "Python 3",
   "language": "python",
   "name": "python3"
  },
  "language_info": {
   "codemirror_mode": {
    "name": "ipython",
    "version": 3
   },
   "file_extension": ".py",
   "mimetype": "text/x-python",
   "name": "python",
   "nbconvert_exporter": "python",
   "pygments_lexer": "ipython3",
   "version": "3.6.3"
  }
 },
 "nbformat": 4,
 "nbformat_minor": 2
}
